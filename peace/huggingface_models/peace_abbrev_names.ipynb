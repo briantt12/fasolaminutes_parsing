{
 "cells": [
  {
   "cell_type": "code",
   "execution_count": 2,
   "metadata": {},
   "outputs": [
    {
     "name": "stderr",
     "output_type": "stream",
     "text": [
      "Some weights of the model checkpoint at dbmdz/bert-large-cased-finetuned-conll03-english were not used when initializing BertForTokenClassification: ['bert.pooler.dense.bias', 'bert.pooler.dense.weight']\n",
      "- This IS expected if you are initializing BertForTokenClassification from the checkpoint of a model trained on another task or with another architecture (e.g. initializing a BertForSequenceClassification model from a BertForPreTraining model).\n",
      "- This IS NOT expected if you are initializing BertForTokenClassification from the checkpoint of a model that you expect to be exactly identical (initializing a BertForSequenceClassification model from a BertForSequenceClassification model).\n",
      "Hardware accelerator e.g. GPU is available in the environment, but no `device` argument is passed to the `Pipeline` object. Model will be on CPU.\n"
     ]
    }
   ],
   "source": [
    "from transformers import pipeline\n",
    "\n",
    "# Load the NER pipeline from Hugging Face\n",
    "ner_pipe = pipeline(\"ner\", model=\"dbmdz/bert-large-cased-finetuned-conll03-english\", tokenizer=\"dbmdz/bert-large-cased-finetuned-conll03-english\")\n",
    "\n"
   ]
  },
  {
   "cell_type": "code",
   "execution_count": 5,
   "metadata": {},
   "outputs": [
    {
     "name": "stdout",
     "output_type": "stream",
     "text": [
      "'L. E. Hannah' is recognized as a human name.\n",
      "'L. E. Hannah' is recognized as a human name.\n",
      "'L. E. Hannah' is recognized as a human name.\n",
      "'L. E. Hannah' is recognized as a human name.\n"
     ]
    }
   ],
   "source": [
    "# Define the abbreviation you want to check\n",
    "abbreviation = \"M.L.K\"\n",
    "abbreviation = \"L. E. Hannah\"\n",
    "\n",
    "# Run inference to detect named entities\n",
    "results = ner_pipe(abbreviation)\n",
    "\n",
    "# Check if it's labeled as a human name\n",
    "for result in results:\n",
    "    if result['entity'] == 'B-PER' or result['entity'] == 'I-PER': \n",
    "        print(f\"'{abbreviation}' is recognized as a human name.\")\n",
    "    else:\n",
    "        print(f\"'{abbreviation}' is not recognized as a human name.\")"
   ]
  }
 ],
 "metadata": {
  "kernelspec": {
   "display_name": "sacredhs",
   "language": "python",
   "name": "python3"
  },
  "language_info": {
   "codemirror_mode": {
    "name": "ipython",
    "version": 3
   },
   "file_extension": ".py",
   "mimetype": "text/x-python",
   "name": "python",
   "nbconvert_exporter": "python",
   "pygments_lexer": "ipython3",
   "version": "3.11.4"
  }
 },
 "nbformat": 4,
 "nbformat_minor": 2
}
