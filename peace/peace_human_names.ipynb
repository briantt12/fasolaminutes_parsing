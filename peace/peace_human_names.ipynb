{
 "cells": [
  {
   "cell_type": "code",
   "execution_count": 1,
   "metadata": {},
   "outputs": [
    {
     "name": "stderr",
     "output_type": "stream",
     "text": [
      "/Users/peace/anaconda3/envs/sacredhs/lib/python3.11/site-packages/tqdm/auto.py:21: TqdmWarning: IProgress not found. Please update jupyter and ipywidgets. See https://ipywidgets.readthedocs.io/en/stable/user_install.html\n",
      "  from .autonotebook import tqdm as notebook_tqdm\n",
      "Hardware accelerator e.g. GPU is available in the environment, but no `device` argument is passed to the `Pipeline` object. Model will be on CPU.\n"
     ]
    }
   ],
   "source": [
    "from transformers import pipeline\n",
    "import json\n",
    "\n",
    "# Load the NER model\n",
    "ner_pipeline = pipeline(\"ner\", model=\"./local_model\", aggregation_strategy=\"simple\")"
   ]
  },
  {
   "cell_type": "code",
   "execution_count": 3,
   "metadata": {},
   "outputs": [],
   "source": [
    "def test_is_human_name(name):\n",
    "    \"\"\"\n",
    "    Checks if a given name is recognized as a human name by the DistilBERT NER model\n",
    "    and returns a True/False result along with a confidence score.\n",
    "\n",
    "    @Param name: str, the name to check\n",
    "\n",
    "    Returns:\n",
    "    tuple: (bool, float)\n",
    "        - True if classified as a person, False otherwise.\n",
    "        - Confidence score (between 0 and 1) of the entity being a human name, or 0 if not detected.\n",
    "    \"\"\"\n",
    "    result = ner_pipeline(name)\n",
    "\n",
    "    # Find the entity recognized as a PERSON with the highest confidence score\n",
    "    person_score = max([ent['score'] for ent in result if ent['entity_group'] == 'PER'], default=0)\n",
    "    \n",
    "    # Return True/False with the score\n",
    "    return person_score > 0, person_score"
   ]
  },
  {
   "cell_type": "code",
   "execution_count": null,
   "metadata": {},
   "outputs": [
    {
     "name": "stdout",
     "output_type": "stream",
     "text": [
      "\"Eugene Hult Center\": False, 0\n"
     ]
    }
   ],
   "source": [
    "\n",
    "# names = [\"Will Black\", \"Bonnie Flowers\", \"Reverends Jim Miller\", \"NEW YEAR\", \"Cincinnati New Year’s Day\"]\n",
    "names=[\"Eugene Hult Center\"]\n",
    "results = {name: (test_is_human_name(name)[0], test_is_human_name(name)[1]) for name in names}\n",
    "\n",
    "# Printing the results in the desired format\n",
    "for name, (is_human_name, score) in results.items():\n",
    "    print(f'\"{name}\": {is_human_name}, {score}')"
   ]
  },
  {
   "cell_type": "code",
   "execution_count": 5,
   "metadata": {},
   "outputs": [
    {
     "name": "stdout",
     "output_type": "stream",
     "text": [
      "328\n"
     ]
    }
   ],
   "source": [
    "import numpy as np\n",
    "\n",
    "spacy_non_name_words = np.array([\n",
    "    \"Aileen Woodley\", \"Calum Woods\", \"The Harper\", \"Frits DeBohr\", \"Rain Haynes\",\n",
    "    \"Aoife O’Grady\", \"During Saturday\", \"The Registration\", \"The Saturday\", \"Claudine Townsend\",\n",
    "    \"P.M.\", \"In Roh Hye\", \"Delores Canaday\", \"At John Fawcett’s\", \"MB Gowans\",\n",
    "    \"Aileen Vance\", \"Iain McLean\", \"All Dublin\", \"Destiny Woods\", \"Trent Frick\",\n",
    "    \"Floy Driskill\", \"Depths We Cry\", \"Will Ahrenhole\", \"The Beasley Family\", \"Tommye Mauldin\",\n",
    "    \"Piers Cawley\", \"delRe\", \"Emily Cargile\", \"Life’s Journey’\", \"The Roots\",\n",
    "    \"All Day\", \"Brother Stavros Winner\", \"Clarice Kjeralff\", \"But The Blood\", \"Art Hargrove\",\n",
    "    \"Co-Chairman Rodney Ivey\", \"The Creel\", \"Pam Dunning\", \"While Syble\", \"At Doddridge Chapel\",\n",
    "    \"DeMars\", \"Celtic World’\", \"WECP\", \"Annalise Perone\", \"Sage Chaser-Dempsey\",\n",
    "    \"névé\", \"Emily Venable\", \"Clearcy Ruttledge\", \"Elise Meyer Bothling\", \"In The\",\n",
    "    \"The Kerr Family\", \"The Lacy Family-Reba Windom\", \"McGraw\", \"Eimear O’ Donovan\",\n",
    "    \"On Saturday\", \"The Oliver\", \"Tottie Harken\", \"The Hat Parade--Betty Shepherd\", \"Wing Mui\",\n",
    "    \"The Eddins\", \"Tussaint Burnette\", \"Died For Me\", \"Dolly Hudgins\", \"Even Venditti\",\n",
    "    \"Dutchified German Spirituals\", \"Teacher--Dan Brittain\", \"Clarence Cates\", \"The Union\",\n",
    "    \"Brent Devore\", \"The Green\", \"The Eva Striebeck\", \"The Silverton Grange All-Day\", \"Mercy Teichert\",\n",
    "    \"Blakely Stewart\", \"Serenity Manning\", \"Robyn Bundy\", \"The London\", \"Rebecca Over\",\n",
    "    \"Anders Fahey\", \"Tigre Lusardi\", \"Daire O’Sullivan\", \"Layla Slaughter\", \"Case O’Dell\",\n",
    "    \"Will Black\", \"Ai Chin\", \"McCool\", \"In Cagle’s\", \"The Tuesday Night Singers\",\n",
    "    \"Tori Gundlach\", \"Bascum Mattox\", \"Elise DelMas\", \"The Youth Boys\", \"Chip Ward\",\n",
    "    \"The Ladykillers\", \"The Arranger\", \"Emily O’Dell\", \"Dynamics Chapter V. The\", \"The Supertonic\",\n",
    "    \"Tell Me Of The Angels\", \"Won’t Turn Back\", \"Chair-person Sarah Davie\", \"The Chairladies\",\n",
    "    \"Founders Ted\", \"Web Sink\", \"The Rudiments\", \"Beautiful Land\", \"Leaders Steve Cackley\",\n",
    "    \"The Green Family\", \"Our Savior\", \"Table Grace\", \"Myrtice Meeks\", \"Whilst Sheila Girling Macadam\",\n",
    "    \"Masti-Denise Maynard\", \"But The Blood Of Jesus\", \"Art Peddle\", \"My Soul\", \"Pocket Harmonist\",\n",
    "    \"Leaders Jamie Yeats\", \"Sage Brownlee\", \"The Alexander\", \"The Jamulus Singers\", \"The Landing\",\n",
    "    \"The Friday\", \"Chapter XI\", \"All Scottish\", \"Dolores Holbrook\", \"Trent Peachy\",\n",
    "    \"The Kerr\", \"Greggory Stockert\", \"McLeod\", \"The Trumpet\", \"Thich Nu Chon Duc\",\n",
    "    \"Will Price\", \"My Friends\", \"The Pontotoc Winter\", \"Tanner Frazier\", \"Co-Chairman Susan Miller-Coulter\",\n",
    "    \"The Levites\", \"Co-Chairman David Rust\", \"Will Means\", \"NEW YEAR\", \"Life’s Journey\",\n",
    "    \"The Bristol\", \"Johannes Saver\", \"The Celebration Lesson\", \"Scots-Irish\", \"Price Walden\",\n",
    "    \"The Beech Tree\", \"Co-Chairman Ian Smiley\", \"Elise Eskew Sparks\", \"The Avery Family\", \"Elise Englert\",\n",
    "    \"Rain Morical\", \"Teacher-Rachel Hall Rachel Hall\", \"Sula O’Duffy\", \"Leaders Katherine Glatter\",\n",
    "    \"Vernice Calvert\", \"The Founders’\", \"Leaders Don Clark\", \"Will All Go Home\", \"Four Mile Community\",\n",
    "    \"Ruker McMullen\", \"Roll Call\", \"Ima Rowland\", \"Chery Stroud\", \"Hester Edwards\",\n",
    "    \"The Geneva All-Day\", \"Johannes Kunst\", \"Elise Cavicchi\", \"Molly-Claire Gillett\", \"Elise delMas\",\n",
    "    \"Connor O’Toole\", \"The Montréal\", \"Era Howton\", \"Lukasz Zóltek\", \"By And By\",\n",
    "    \"The Olney Hymns\", \"Boys Youth\", \"Boundless God\", \"Molly Mixon\", \"Eamonn O’Neill\",\n",
    "    \"Sunny Young\", \"The Sunday Session\", \"Price L. Worrell\", \"The Wakefield Singers\", \"Reverends Jim Miller\",\n",
    "    \"Have Had Singing\", \"His Blessings\", \"Shone Around\", \"Secretaries--Fiona Nugent\", \"The Beasley\",\n",
    "    \"The Shenandoah Harmony\", \"Loves Me\", \"Pro-tem Liz Owen\", \"The Chicago\", \"Daire O’ Sullivan\",\n",
    "    \"Pam Sims\", \"Allsion Ivey\", \"The Locating\", \"Piers Blewitt\", \"Rosalind Woods\",\n",
    "    \"Keillor More\", \"But God’s\", \"Sungwoo Yoon\", \"Dolly Sarley\", \"The Danby\",\n",
    "    \"The Rogers Children\", \"Leaders Nick Hall\", \"Edmund Golloday\", \"The Sydneysiders Caitlin Jay\", \"The Dallas\",\n",
    "    \"Co-chairmen Benedicta Hardy\", \"Nate Mathews\", \"The Founders’ Lesson\", \"The Dayton Harmonist\", \"The Harris Family\",\n",
    "    \"Dolly Bush\", \"Eliza See\", \"At Rosslyn Chapel\", \"Aileen Cheng\", \"Chloë Spreadborough\",\n",
    "    \"Wener Ullah\", \"Thérèse Power\", \"Edmund Galladay\", \"The Gilmore Family\", \"At Home\",\n",
    "    \"The Rogers\", \"River Skrenes\", \"Teacher-Dan Brittain Dan\", \"The Cork Singers\", \"Dolores Canerday\",\n",
    "    \"Teacher--Sam Sommers\", \"Annefloor Van Landaghen\", \"The Great Roll Call\", \"Edmund Golladay\", \"Will Stallings\",\n",
    "    \"Chresten DNC\", \"Elise Fairless\", \"Day That Will Be\", \"The Munich\", \"Arnfried Mähler\",\n",
    "    \"The Rock\", \"Iain Paxon\", \"Audress Gurley\", \"The Coweta\", \"All Frank\",\n",
    "    \"Isis Arslan\", \"The Wallowa Valley All-Day\", \"The IV\", \"Founders Ted Johnson\", \"Will Townsend\",\n",
    "    \"This Levitical\", \"McFate\", \"Chip Westbrook\", \"Explorers’ Group\", \"The Sheppards\",\n",
    "    \"Sean O’Donnell\", \"One They Are Falling Asleep\", \"Rosalind Oldham\", \"The New Year’s Day\", \"Gilly Campbell\",\n",
    "    \"Chip Wise\", \"Teacher-Judy Caudle Judy Caudle\", \"DeLong\", \"Who Must Be Heard\", \"Every Guest\",\n",
    "    \"The Man With\", \"Emily Veniable\", \"Celestial Watering\", \"See Me Now\", \"The Sherbrooke\",\n",
    "    \"The Texas\", \"The Brady\", \"Rye Skelton\", \"Car Bear\", \"Tanner Pfeiffer\",\n",
    "    \"Elise Eskew\", \"The Lacy\", \"At Old Temple Kirk\", \"Loved One Home\", \"Twenty Year Club\",\n",
    "    \"Clarence McCool\", \"Will Dove\", \"Henning Baltruschat\", \"Made With Hands\", \"The Butterfly’\",\n",
    "    \"Will D.\", \"Heather Ikeler\", \"Alpha Black\", \"E. Vernice\", \"Light At The River\",\n",
    "    \"The Morton All-Day\", \"The Cullman\", \"Of Thee\", \"On Sunday\", \"Frances D’Andrea\",\n",
    "    \"Will Spendlove\", \"The Monday\", \"Willy Logan\", \"Rosalind Wood\", \"Gaylon Barrow\",\n",
    "    \"Dolores Wilks\", \"The Sunday\", \"Co-Chairman David Ivey\", \"Molly-Claire Gillet\", \"The Introductory Lesson\",\n",
    "    \"Molly Black\", \"Norm Howe\", \"The Founder’s Lesson\", \"Heather Purdy\", \"Performing Arts\",\n",
    "    \"Parting Hand\", \"Devout Life\", \"The Ivey Family\", \"Conor O’Hanlon\", \"Will Peebles\",\n",
    "    \"Co-Chairman Terry Wootten\", \"Emily Sigmon\", \"Eimear O’Donovan\", \"Case O’dell\", \"May Witt\",\n",
    "    \"The Rock Ranch\", \"Spiritual Wisdom\", \"The Lonnie Rogers\", \"Alonzo Edwards\", \"Sinead O’Mahoney\",\n",
    "    \"PVADS\", \"Per-Olof Swing\"\n",
    "])\n",
    "\n",
    "print(len(spacy_non_name_words))\n"
   ]
  },
  {
   "cell_type": "code",
   "execution_count": 6,
   "metadata": {},
   "outputs": [],
   "source": [
    "results_array = np.array([test_is_human_name(name) for name in spacy_non_name_words])\n",
    "\n",
    "# Convert results to a dictionary\n",
    "results = dict(zip(spacy_non_name_words, results_array))\n"
   ]
  },
  {
   "cell_type": "code",
   "execution_count": 7,
   "metadata": {},
   "outputs": [
    {
     "name": "stdout",
     "output_type": "stream",
     "text": [
      "{'Aileen Woodley': array([1.        , 0.99910355]), 'Calum Woods': array([1.       , 0.4885526]), 'The Harper': array([1.        , 0.69456798]), 'Frits DeBohr': array([0., 0.]), 'Rain Haynes': array([1.        , 0.98460019]), 'Aoife O’Grady': array([1.        , 0.99410796]), 'During Saturday': array([0., 0.]), 'The Registration': array([0., 0.]), 'The Saturday': array([0., 0.]), 'Claudine Townsend': array([1.       , 0.9978587]), 'P.M.': array([1.        , 0.76086211]), 'In Roh Hye': array([0., 0.]), 'Delores Canaday': array([0., 0.]), 'At John Fawcett’s': array([1.       , 0.9329164]), 'MB Gowans': array([1.        , 0.75013041]), 'Aileen Vance': array([1.        , 0.99840444]), 'Iain McLean': array([1.        , 0.99864066]), 'All Dublin': array([0., 0.]), 'Destiny Woods': array([1.        , 0.70230103]), 'Trent Frick': array([1.        , 0.98071903]), 'Floy Driskill': array([1.        , 0.69245595]), 'Depths We Cry': array([0., 0.]), 'Will Ahrenhole': array([1.        , 0.99749076]), 'The Beasley Family': array([0., 0.]), 'Tommye Mauldin': array([1.        , 0.99582988]), 'Piers Cawley': array([1.        , 0.99780196]), 'delRe': array([0., 0.]), 'Emily Cargile': array([1.        , 0.99820763]), 'Life’s Journey’': array([0., 0.]), 'The Roots': array([0., 0.]), 'All Day': array([0., 0.]), 'Brother Stavros Winner': array([1.        , 0.98347074]), 'Clarice Kjeralff': array([1.        , 0.99302822]), 'But The Blood': array([0., 0.]), 'Art Hargrove': array([1.        , 0.99874127]), 'Co-Chairman Rodney Ivey': array([1.       , 0.9991262]), 'The Creel': array([0., 0.]), 'Pam Dunning': array([1.        , 0.99821836]), 'While Syble': array([1.        , 0.99589342]), 'At Doddridge Chapel': array([0., 0.]), 'DeMars': array([1.       , 0.9905746]), 'Celtic World’': array([0., 0.]), 'WECP': array([0., 0.]), 'Annalise Perone': array([1.        , 0.99852401]), 'Sage Chaser-Dempsey': array([1.        , 0.98915559]), 'névé': array([0., 0.]), 'Emily Venable': array([1.        , 0.99688125]), 'Clearcy Ruttledge': array([1.        , 0.99912328]), 'Elise Meyer Bothling': array([1.        , 0.99900866]), 'In The': array([0., 0.]), 'The Kerr Family': array([0., 0.]), 'The Lacy Family-Reba Windom': array([1.        , 0.99258423]), 'McGraw': array([1.        , 0.83067161]), 'Eimear O’ Donovan': array([1.        , 0.99712831]), 'On Saturday': array([0., 0.]), 'The Oliver': array([1.        , 0.90171665]), 'Tottie Harken': array([1.        , 0.97771835]), 'The Hat Parade--Betty Shepherd': array([1.        , 0.99880409]), 'Wing Mui': array([1.        , 0.98100251]), 'The Eddins': array([0., 0.]), 'Tussaint Burnette': array([1.        , 0.65053982]), 'Died For Me': array([0., 0.]), 'Dolly Hudgins': array([1.        , 0.99895865]), 'Even Venditti': array([1.        , 0.99627334]), 'Dutchified German Spirituals': array([0., 0.]), 'Teacher--Dan Brittain': array([1.        , 0.99924821]), 'Clarence Cates': array([1.        , 0.99891144]), 'The Union': array([0., 0.]), 'Brent Devore': array([1.        , 0.99715453]), 'The Green': array([0., 0.]), 'The Eva Striebeck': array([1.        , 0.36906123]), 'The Silverton Grange All-Day': array([0., 0.]), 'Mercy Teichert': array([1.        , 0.67835575]), 'Blakely Stewart': array([1.       , 0.9949066]), 'Serenity Manning': array([1.        , 0.61565924]), 'Robyn Bundy': array([1.        , 0.99917418]), 'The London': array([0., 0.]), 'Rebecca Over': array([1.        , 0.99258411]), 'Anders Fahey': array([1.        , 0.99910927]), 'Tigre Lusardi': array([1.        , 0.75807673]), 'Daire O’Sullivan': array([1.        , 0.99820298]), 'Layla Slaughter': array([1.        , 0.92521971]), 'Case O’Dell': array([0., 0.]), 'Will Black': array([1.        , 0.99211866]), 'Ai Chin': array([1.        , 0.96250194]), 'McCool': array([1.      , 0.972875]), 'In Cagle’s': array([1.        , 0.72136182]), 'The Tuesday Night Singers': array([0., 0.]), 'Tori Gundlach': array([1.        , 0.99936163]), 'Bascum Mattox': array([1.        , 0.79740798]), 'Elise DelMas': array([1.        , 0.99927294]), 'The Youth Boys': array([0., 0.]), 'Chip Ward': array([1.        , 0.99361277]), 'The Ladykillers': array([0., 0.]), 'The Arranger': array([1.        , 0.52325171]), 'Emily O’Dell': array([1.        , 0.99686503]), 'Dynamics Chapter V. The': array([0., 0.]), 'The Supertonic': array([0., 0.]), 'Tell Me Of The Angels': array([0., 0.]), 'Won’t Turn Back': array([0., 0.]), 'Chair-person Sarah Davie': array([1.        , 0.99915433]), 'The Chairladies': array([0., 0.]), 'Founders Ted': array([1.       , 0.8847245]), 'Web Sink': array([0., 0.]), 'The Rudiments': array([0., 0.]), 'Beautiful Land': array([0., 0.]), 'Leaders Steve Cackley': array([1.        , 0.99928105]), 'The Green Family': array([0., 0.]), 'Our Savior': array([0., 0.]), 'Table Grace': array([0., 0.]), 'Myrtice Meeks': array([1.        , 0.99638146]), 'Whilst Sheila Girling Macadam': array([1.        , 0.99801755]), 'Masti-Denise Maynard': array([1.        , 0.98954654]), 'But The Blood Of Jesus': array([0., 0.]), 'Art Peddle': array([0., 0.]), 'My Soul': array([0., 0.]), 'Pocket Harmonist': array([0., 0.]), 'Leaders Jamie Yeats': array([1.        , 0.99710989]), 'Sage Brownlee': array([1.        , 0.99869704]), 'The Alexander': array([1.        , 0.54885948]), 'The Jamulus Singers': array([0., 0.]), 'The Landing': array([0., 0.]), 'The Friday': array([0., 0.]), 'Chapter XI': array([0., 0.]), 'All Scottish': array([0., 0.]), 'Dolores Holbrook': array([1.        , 0.99887127]), 'Trent Peachy': array([1.        , 0.97472286]), 'The Kerr': array([1.        , 0.90935922]), 'Greggory Stockert': array([1.        , 0.99478257]), 'McLeod': array([1.       , 0.9980529]), 'The Trumpet': array([0., 0.]), 'Thich Nu Chon Duc': array([1.        , 0.98745567]), 'Will Price': array([1.        , 0.99555546]), 'My Friends': array([0., 0.]), 'The Pontotoc Winter': array([0., 0.]), 'Tanner Frazier': array([1.       , 0.9984954]), 'Co-Chairman Susan Miller-Coulter': array([1.        , 0.99173242]), 'The Levites': array([0., 0.]), 'Co-Chairman David Rust': array([1.        , 0.99906367]), 'Will Means': array([1.        , 0.96795112]), 'NEW YEAR': array([0., 0.]), 'Life’s Journey': array([0., 0.]), 'The Bristol': array([0., 0.]), 'Johannes Saver': array([1.        , 0.99563366]), 'The Celebration Lesson': array([0., 0.]), 'Scots-Irish': array([0., 0.]), 'Price Walden': array([1.        , 0.50522399]), 'The Beech Tree': array([0., 0.]), 'Co-Chairman Ian Smiley': array([1.        , 0.99923199]), 'Elise Eskew Sparks': array([1.        , 0.99855888]), 'The Avery Family': array([0., 0.]), 'Elise Englert': array([1.        , 0.99873984]), 'Rain Morical': array([1.        , 0.95618773]), 'Teacher-Rachel Hall Rachel Hall': array([1.        , 0.99407315]), 'Sula O’Duffy': array([1.        , 0.99739647]), 'Leaders Katherine Glatter': array([1.        , 0.99884653]), 'Vernice Calvert': array([1.        , 0.99621648]), 'The Founders’': array([0., 0.]), 'Leaders Don Clark': array([1.        , 0.99887776]), 'Will All Go Home': array([0., 0.]), 'Four Mile Community': array([0., 0.]), 'Ruker McMullen': array([1.      , 0.998945]), 'Roll Call': array([0., 0.]), 'Ima Rowland': array([1.        , 0.99863619]), 'Chery Stroud': array([1.        , 0.99568927]), 'Hester Edwards': array([1.        , 0.99796414]), 'The Geneva All-Day': array([0., 0.]), 'Johannes Kunst': array([1.       , 0.9988665]), 'Elise Cavicchi': array([1.        , 0.99941671]), 'Molly-Claire Gillett': array([1.        , 0.90300548]), 'Elise delMas': array([1.        , 0.99871981]), 'Connor O’Toole': array([1.        , 0.99781036]), 'The Montréal': array([0., 0.]), 'Era Howton': array([1.        , 0.99848819]), 'Lukasz Zóltek': array([1.        , 0.99935168]), 'By And By': array([0., 0.]), 'The Olney Hymns': array([0., 0.]), 'Boys Youth': array([0., 0.]), 'Boundless God': array([0., 0.]), 'Molly Mixon': array([1.       , 0.9988234]), 'Eamonn O’Neill': array([1.        , 0.99797887]), 'Sunny Young': array([1.        , 0.99843657]), 'The Sunday Session': array([0., 0.]), 'Price L. Worrell': array([1.       , 0.9881143]), 'The Wakefield Singers': array([0., 0.]), 'Reverends Jim Miller': array([1.        , 0.99906707]), 'Have Had Singing': array([1.        , 0.75042468]), 'His Blessings': array([0., 0.]), 'Shone Around': array([1.        , 0.48112407]), 'Secretaries--Fiona Nugent': array([1.        , 0.99904871]), 'The Beasley': array([1.        , 0.50438207]), 'The Shenandoah Harmony': array([0., 0.]), 'Loves Me': array([0., 0.]), 'Pro-tem Liz Owen': array([1.        , 0.99537325]), 'The Chicago': array([0., 0.]), 'Daire O’ Sullivan': array([1.        , 0.99820298]), 'Pam Sims': array([1.       , 0.9986316]), 'Allsion Ivey': array([1.        , 0.57913637]), 'The Locating': array([0., 0.]), 'Piers Blewitt': array([1.       , 0.9984504]), 'Rosalind Woods': array([1.        , 0.99852705]), 'Keillor More': array([0., 0.]), 'But God’s': array([1.        , 0.56317437]), 'Sungwoo Yoon': array([1.        , 0.95646298]), 'Dolly Sarley': array([1.        , 0.99906498]), 'The Danby': array([0., 0.]), 'The Rogers Children': array([0., 0.]), 'Leaders Nick Hall': array([1.        , 0.99768603]), 'Edmund Golloday': array([1.        , 0.99920744]), 'The Sydneysiders Caitlin Jay': array([1.        , 0.99424613]), 'The Dallas': array([0., 0.]), 'Co-chairmen Benedicta Hardy': array([1.        , 0.99909687]), 'Nate Mathews': array([1.        , 0.99859977]), 'The Founders’ Lesson': array([0., 0.]), 'The Dayton Harmonist': array([0., 0.]), 'The Harris Family': array([0., 0.]), 'Dolly Bush': array([1.        , 0.99886054]), 'Eliza See': array([1.       , 0.9864881]), 'At Rosslyn Chapel': array([0., 0.]), 'Aileen Cheng': array([1.        , 0.99880528]), 'Chloë Spreadborough': array([1.        , 0.90283358]), 'Wener Ullah': array([1.        , 0.99920458]), 'Thérèse Power': array([0., 0.]), 'Edmund Galladay': array([1.        , 0.99906838]), 'The Gilmore Family': array([0., 0.]), 'At Home': array([0., 0.]), 'The Rogers': array([1.        , 0.72848016]), 'River Skrenes': array([0., 0.]), 'Teacher-Dan Brittain Dan': array([1.        , 0.99847996]), 'The Cork Singers': array([0., 0.]), 'Dolores Canerday': array([1.        , 0.99905431]), 'Teacher--Sam Sommers': array([1.        , 0.99894899]), 'Annefloor Van Landaghen': array([1.        , 0.96300983]), 'The Great Roll Call': array([0., 0.]), 'Edmund Golladay': array([1.        , 0.99931771]), 'Will Stallings': array([1.        , 0.99902248]), 'Chresten DNC': array([0., 0.]), 'Elise Fairless': array([1.        , 0.99764758]), 'Day That Will Be': array([0., 0.]), 'The Munich': array([0., 0.]), 'Arnfried Mähler': array([1.        , 0.99855781]), 'The Rock': array([0., 0.]), 'Iain Paxon': array([1.        , 0.99886894]), 'Audress Gurley': array([1.       , 0.7669338]), 'The Coweta': array([0., 0.]), 'All Frank': array([0., 0.]), 'Isis Arslan': array([1.        , 0.99932945]), 'The Wallowa Valley All-Day': array([0., 0.]), 'The IV': array([0., 0.]), 'Founders Ted Johnson': array([1.        , 0.99881506]), 'Will Townsend': array([1.        , 0.99812818]), 'This Levitical': array([0., 0.]), 'McFate': array([1.        , 0.90185285]), 'Chip Westbrook': array([1.      , 0.996589]), 'Explorers’ Group': array([0., 0.]), 'The Sheppards': array([0., 0.]), 'Sean O’Donnell': array([1.        , 0.99906611]), 'One They Are Falling Asleep': array([0., 0.]), 'Rosalind Oldham': array([1.        , 0.99890548]), 'The New Year’s Day': array([0., 0.]), 'Gilly Campbell': array([1.        , 0.99896449]), 'Chip Wise': array([1.       , 0.9944551]), 'Teacher-Judy Caudle Judy Caudle': array([1.       , 0.9958936]), 'DeLong': array([1.        , 0.90156728]), 'Who Must Be Heard': array([0., 0.]), 'Every Guest': array([0., 0.]), 'The Man With': array([0., 0.]), 'Emily Veniable': array([1.        , 0.96876734]), 'Celestial Watering': array([0., 0.]), 'See Me Now': array([0., 0.]), 'The Sherbrooke': array([0., 0.]), 'The Texas': array([0., 0.]), 'The Brady': array([1.        , 0.93391991]), 'Rye Skelton': array([1.        , 0.62625968]), 'Car Bear': array([1.        , 0.67977375]), 'Tanner Pfeiffer': array([1.        , 0.99806583]), 'Elise Eskew': array([1.        , 0.99893755]), 'The Lacy': array([0., 0.]), 'At Old Temple Kirk': array([0., 0.]), 'Loved One Home': array([0., 0.]), 'Twenty Year Club': array([0., 0.]), 'Clarence McCool': array([1.        , 0.99684829]), 'Will Dove': array([1.        , 0.99650502]), 'Henning Baltruschat': array([1.        , 0.99743241]), 'Made With Hands': array([0., 0.]), 'The Butterfly’': array([0., 0.]), 'Will D.': array([1.        , 0.92166901]), 'Heather Ikeler': array([1.       , 0.9991976]), 'Alpha Black': array([0., 0.]), 'E. Vernice': array([1.        , 0.99814433]), 'Light At The River': array([0., 0.]), 'The Morton All-Day': array([0., 0.]), 'The Cullman': array([0., 0.]), 'Of Thee': array([1.       , 0.7075035]), 'On Sunday': array([0., 0.]), 'Frances D’Andrea': array([1.        , 0.99638581]), 'Will Spendlove': array([1.        , 0.99834204]), 'The Monday': array([0., 0.]), 'Willy Logan': array([1.        , 0.99894631]), 'Rosalind Wood': array([1.        , 0.99865514]), 'Gaylon Barrow': array([1.       , 0.9848612]), 'Dolores Wilks': array([1.        , 0.99613106]), 'The Sunday': array([0., 0.]), 'Co-Chairman David Ivey': array([1.       , 0.9990384]), 'Molly-Claire Gillet': array([1.        , 0.89869398]), 'The Introductory Lesson': array([0., 0.]), 'Molly Black': array([1.        , 0.99763894]), 'Norm Howe': array([1.        , 0.99828815]), 'The Founder’s Lesson': array([1.        , 0.63050246]), 'Heather Purdy': array([1.       , 0.9983632]), 'Performing Arts': array([0., 0.]), 'Parting Hand': array([0., 0.]), 'Devout Life': array([0., 0.]), 'The Ivey Family': array([0., 0.]), 'Conor O’Hanlon': array([1.        , 0.99872255]), 'Will Peebles': array([1.        , 0.99668127]), 'Co-Chairman Terry Wootten': array([1.        , 0.99855238]), 'Emily Sigmon': array([1.       , 0.9986015]), 'Eimear O’Donovan': array([1.        , 0.99712831]), 'Case O’dell': array([0., 0.]), 'May Witt': array([1.        , 0.97166425]), 'The Rock Ranch': array([0., 0.]), 'Spiritual Wisdom': array([0., 0.]), 'The Lonnie Rogers': array([1.        , 0.98165786]), 'Alonzo Edwards': array([1.        , 0.99705905]), 'Sinead O’Mahoney': array([1.        , 0.99456388]), 'PVADS': array([0., 0.]), 'Per-Olof Swing': array([1.        , 0.98846769])}\n"
     ]
    }
   ],
   "source": [
    "print(results)"
   ]
  },
  {
   "cell_type": "code",
   "execution_count": 8,
   "metadata": {},
   "outputs": [],
   "source": [
    "with open(\"peaceLogs/peace_huggingface_Spacy_nonNames.txt\", \"w\") as file:\n",
    "    for name, values in results.items():\n",
    "        status = \"True\" if values[0] == 1.0 else \"False\"\n",
    "        file.write(f'\"{name}\": {status}, {values[1]:.6f}\\n')"
   ]
  }
 ],
 "metadata": {
  "kernelspec": {
   "display_name": "sacredhs",
   "language": "python",
   "name": "python3"
  },
  "language_info": {
   "codemirror_mode": {
    "name": "ipython",
    "version": 3
   },
   "file_extension": ".py",
   "mimetype": "text/x-python",
   "name": "python",
   "nbconvert_exporter": "python",
   "pygments_lexer": "ipython3",
   "version": "3.11.4"
  }
 },
 "nbformat": 4,
 "nbformat_minor": 2
}
